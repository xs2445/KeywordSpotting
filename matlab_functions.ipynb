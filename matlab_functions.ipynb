{
 "cells": [
  {
   "cell_type": "code",
   "execution_count": 39,
   "metadata": {},
   "outputs": [
    {
     "name": "stdout",
     "output_type": "stream",
     "text": [
      "The autoreload extension is already loaded. To reload it, use:\n",
      "  %reload_ext autoreload\n"
     ]
    }
   ],
   "source": [
    "import os\n",
    "import scipy.io as sio\n",
    "import numpy as np\n",
    "import matplotlib.pyplot as plt\n",
    "%matplotlib inline\n",
    "\n",
    "from utils.dataset import SpectrogramDataset\n",
    "\n",
    "%load_ext autoreload\n",
    "%autoreload 2"
   ]
  },
  {
   "cell_type": "code",
   "execution_count": 33,
   "metadata": {},
   "outputs": [],
   "source": [
    "path = './data'\n",
    "dataset_name = 'speech_commands_v1/mats/mat_samples'\n",
    "mat_fname = os.path.join(path, dataset_name, 'down', '00b01445_nohash_0.mat')"
   ]
  },
  {
   "cell_type": "code",
   "execution_count": 27,
   "metadata": {},
   "outputs": [
    {
     "name": "stdout",
     "output_type": "stream",
     "text": [
      "(32, 100)\n"
     ]
    },
    {
     "data": {
      "image/png": "[encoded data removed]",
      "text/plain": [
       "<Figure size 432x288 with 1 Axes>"
      ]
     },
     "metadata": {
      "needs_background": "light"
     },
     "output_type": "display_data"
    }
   ],
   "source": [
    "ary = sio.loadmat(mat_fname)[\"x_o\"]\n",
    "print(ary.shape)\n",
    "plt.figure()\n",
    "plt.imshow(ary)\n",
    "plt.show()"
   ]
  },
  {
   "cell_type": "code",
   "execution_count": 41,
   "metadata": {},
   "outputs": [],
   "source": [
    "save_path = 'speech_commands_v1/imgs/np_samples'\n",
    "\n",
    "SpectrogramDataset.mat2np(path, dataset_name, save_path)"
   ]
  },
  {
   "cell_type": "code",
   "execution_count": 40,
   "metadata": {},
   "outputs": [
    {
     "name": "stdout",
     "output_type": "stream",
     "text": [
      "(32, 100)\n"
     ]
    },
    {
     "data": {
      "image/png": "[encoded data removed]",
      "text/plain": [
       "<Figure size 432x288 with 1 Axes>"
      ]
     },
     "metadata": {
      "needs_background": "light"
     },
     "output_type": "display_data"
    }
   ],
   "source": [
    "ary = np.load('./data/speech_commands_v1/imgs/np_samples/down/00b01445_nohash_0.npy')\n",
    "print(ary.shape)\n",
    "plt.figure()\n",
    "plt.imshow(ary)\n",
    "plt.show()"
   ]
  },
  {
   "cell_type": "code",
   "execution_count": 43,
   "metadata": {},
   "outputs": [
    {
     "name": "stdout",
     "output_type": "stream",
     "text": [
      "Processed: 1000\n",
      "Processed: 2000\n",
      "Processed: 3000\n",
      "Processed: 4000\n",
      "Processed: 5000\n",
      "Processed: 6000\n",
      "Processed: 7000\n",
      "Processed: 8000\n",
      "Processed: 9000\n",
      "Processed: 10000\n",
      "Processed: 11000\n",
      "Processed: 12000\n",
      "Processed: 13000\n",
      "Processed: 14000\n",
      "Processed: 15000\n",
      "Processed: 16000\n",
      "Processed: 17000\n",
      "Processed: 18000\n",
      "Processed: 19000\n",
      "Processed: 20000\n",
      "Processed: 21000\n",
      "Processed: 22000\n",
      "Processed: 23000\n"
     ]
    }
   ],
   "source": [
    "path = './data'\n",
    "dataset_name = 'speech_commands_v1/mats/n32-q3-a1-100-4000'\n",
    "save_path = 'speech_commands_v1/imgs/n32-q3-a1-100-4000'\n",
    "SpectrogramDataset.mat2np(path, dataset_name, save_path)"
   ]
  }
 ],
 "metadata": {
  "environment": {
   "kernel": "python3",
   "name": "pytorch-gpu.1-10.m90",
   "type": "gcloud",
   "uri": "gcr.io/deeplearning-platform-release/pytorch-gpu.1-10:m90"
  },
  "interpreter": {
   "hash": "d4d1e4263499bec80672ea0156c357c1ee493ec2b1c70f0acce89fc37c4a6abe"
  },
  "kernelspec": {
   "display_name": "Python 3 (ipykernel)",
   "language": "python",
   "name": "python3"
  },
  "language_info": {
   "codemirror_mode": {
    "name": "ipython",
    "version": 3
   },
   "file_extension": ".py",
   "mimetype": "text/x-python",
   "name": "python",
   "nbconvert_exporter": "python",
   "pygments_lexer": "ipython3",
   "version": "3.7.12"
  }
 },
 "nbformat": 4,
 "nbformat_minor": 4
}
